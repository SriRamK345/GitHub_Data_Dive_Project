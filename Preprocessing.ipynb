{
 "cells": [
  {
   "cell_type": "code",
   "execution_count": 2,
   "metadata": {},
   "outputs": [],
   "source": [
    "import requests\n",
    "import pandas as pd\n",
    "import numpy as np\n",
    "import mysql.connector"
   ]
  },
  {
   "cell_type": "markdown",
   "metadata": {},
   "source": [
    "# Loading GitHub Personal Access Token"
   ]
  },
  {
   "cell_type": "code",
   "execution_count": 3,
   "metadata": {},
   "outputs": [
    {
     "name": "stdout",
     "output_type": "stream",
     "text": [
      "Fetching repositories for topic: machine learning\n",
      "Fetching repositories for topic: data visualization\n",
      "Fetching repositories for topic: deep learning\n",
      "Fetching repositories for topic: natural language processing\n",
      "Fetching repositories for topic: artificial intelligence\n",
      "Fetching repositories for topic: hypothesis testing\n",
      "Fetching repositories for topic: time series analysis\n",
      "Fetching repositories for topic: amazon sagemaker\n",
      "Fetching repositories for topic: tensorflow\n",
      "Fetching repositories for topic: Generative AI\n"
     ]
    },
    {
     "data": {
      "text/html": [
       "<div>\n",
       "<style scoped>\n",
       "    .dataframe tbody tr th:only-of-type {\n",
       "        vertical-align: middle;\n",
       "    }\n",
       "\n",
       "    .dataframe tbody tr th {\n",
       "        vertical-align: top;\n",
       "    }\n",
       "\n",
       "    .dataframe thead th {\n",
       "        text-align: right;\n",
       "    }\n",
       "</style>\n",
       "<table border=\"1\" class=\"dataframe\">\n",
       "  <thead>\n",
       "    <tr style=\"text-align: right;\">\n",
       "      <th></th>\n",
       "      <th>Repository Name</th>\n",
       "      <th>Owner</th>\n",
       "      <th>Description</th>\n",
       "      <th>URL</th>\n",
       "      <th>Programming Language</th>\n",
       "      <th>Creation Date</th>\n",
       "      <th>Last Updated Date</th>\n",
       "      <th>Number of Stars</th>\n",
       "      <th>Number of Forks</th>\n",
       "      <th>Number of Open Issues</th>\n",
       "      <th>License Type</th>\n",
       "    </tr>\n",
       "  </thead>\n",
       "  <tbody>\n",
       "    <tr>\n",
       "      <th>0</th>\n",
       "      <td>tensorflow</td>\n",
       "      <td>tensorflow</td>\n",
       "      <td>An Open Source Machine Learning Framework for ...</td>\n",
       "      <td>https://github.com/tensorflow/tensorflow</td>\n",
       "      <td>C++</td>\n",
       "      <td>2015-11-07T01:19:20Z</td>\n",
       "      <td>2024-10-09T03:29:49Z</td>\n",
       "      <td>185882</td>\n",
       "      <td>74237</td>\n",
       "      <td>5119</td>\n",
       "      <td>Apache License 2.0</td>\n",
       "    </tr>\n",
       "    <tr>\n",
       "      <th>1</th>\n",
       "      <td>transformers</td>\n",
       "      <td>huggingface</td>\n",
       "      <td>🤗 Transformers: State-of-the-art Machine Learn...</td>\n",
       "      <td>https://github.com/huggingface/transformers</td>\n",
       "      <td>Python</td>\n",
       "      <td>2018-10-29T13:56:00Z</td>\n",
       "      <td>2024-10-09T04:16:52Z</td>\n",
       "      <td>133092</td>\n",
       "      <td>26566</td>\n",
       "      <td>1420</td>\n",
       "      <td>Apache License 2.0</td>\n",
       "    </tr>\n",
       "    <tr>\n",
       "      <th>2</th>\n",
       "      <td>ML-For-Beginners</td>\n",
       "      <td>microsoft</td>\n",
       "      <td>12 weeks, 26 lessons, 52 quizzes, classic Mach...</td>\n",
       "      <td>https://github.com/microsoft/ML-For-Beginners</td>\n",
       "      <td>HTML</td>\n",
       "      <td>2021-03-03T01:34:05Z</td>\n",
       "      <td>2024-10-09T04:58:56Z</td>\n",
       "      <td>69359</td>\n",
       "      <td>14354</td>\n",
       "      <td>9</td>\n",
       "      <td>MIT License</td>\n",
       "    </tr>\n",
       "    <tr>\n",
       "      <th>3</th>\n",
       "      <td>funNLP</td>\n",
       "      <td>fighting41love</td>\n",
       "      <td>中英文敏感词、语言检测、中外手机/电话归属地/运营商查询、名字推断性别、手机号抽取、身份证抽...</td>\n",
       "      <td>https://github.com/fighting41love/funNLP</td>\n",
       "      <td>Python</td>\n",
       "      <td>2018-08-21T11:20:39Z</td>\n",
       "      <td>2024-10-09T04:59:20Z</td>\n",
       "      <td>68129</td>\n",
       "      <td>14443</td>\n",
       "      <td>28</td>\n",
       "      <td>No License</td>\n",
       "    </tr>\n",
       "    <tr>\n",
       "      <th>4</th>\n",
       "      <td>awesome-machine-learning</td>\n",
       "      <td>josephmisiti</td>\n",
       "      <td>A curated list of awesome Machine Learning fra...</td>\n",
       "      <td>https://github.com/josephmisiti/awesome-machin...</td>\n",
       "      <td>Python</td>\n",
       "      <td>2014-07-15T19:11:19Z</td>\n",
       "      <td>2024-10-09T03:15:30Z</td>\n",
       "      <td>65636</td>\n",
       "      <td>14599</td>\n",
       "      <td>7</td>\n",
       "      <td>Other</td>\n",
       "    </tr>\n",
       "  </tbody>\n",
       "</table>\n",
       "</div>"
      ],
      "text/plain": [
       "            Repository Name           Owner  \\\n",
       "0                tensorflow      tensorflow   \n",
       "1              transformers     huggingface   \n",
       "2          ML-For-Beginners       microsoft   \n",
       "3                    funNLP  fighting41love   \n",
       "4  awesome-machine-learning    josephmisiti   \n",
       "\n",
       "                                         Description  \\\n",
       "0  An Open Source Machine Learning Framework for ...   \n",
       "1  🤗 Transformers: State-of-the-art Machine Learn...   \n",
       "2  12 weeks, 26 lessons, 52 quizzes, classic Mach...   \n",
       "3  中英文敏感词、语言检测、中外手机/电话归属地/运营商查询、名字推断性别、手机号抽取、身份证抽...   \n",
       "4  A curated list of awesome Machine Learning fra...   \n",
       "\n",
       "                                                 URL Programming Language  \\\n",
       "0           https://github.com/tensorflow/tensorflow                  C++   \n",
       "1        https://github.com/huggingface/transformers               Python   \n",
       "2      https://github.com/microsoft/ML-For-Beginners                 HTML   \n",
       "3           https://github.com/fighting41love/funNLP               Python   \n",
       "4  https://github.com/josephmisiti/awesome-machin...               Python   \n",
       "\n",
       "          Creation Date     Last Updated Date  Number of Stars  \\\n",
       "0  2015-11-07T01:19:20Z  2024-10-09T03:29:49Z           185882   \n",
       "1  2018-10-29T13:56:00Z  2024-10-09T04:16:52Z           133092   \n",
       "2  2021-03-03T01:34:05Z  2024-10-09T04:58:56Z            69359   \n",
       "3  2018-08-21T11:20:39Z  2024-10-09T04:59:20Z            68129   \n",
       "4  2014-07-15T19:11:19Z  2024-10-09T03:15:30Z            65636   \n",
       "\n",
       "   Number of Forks  Number of Open Issues        License Type  \n",
       "0            74237                   5119  Apache License 2.0  \n",
       "1            26566                   1420  Apache License 2.0  \n",
       "2            14354                      9         MIT License  \n",
       "3            14443                     28          No License  \n",
       "4            14599                      7               Other  "
      ]
     },
     "execution_count": 3,
     "metadata": {},
     "output_type": "execute_result"
    }
   ],
   "source": [
    "with open(\"token.txt\", \"r\") as file:\n",
    "    GITHUB_TOKEN = file.read().strip() \n",
    "\n",
    "# GitHub API URL\n",
    "GITHUB_API_URL = \"https://api.github.com/search/repositories\"\n",
    "\n",
    "# Headers for authentication\n",
    "authentication = {\"Authorization\": f\"Token {GITHUB_TOKEN}\"}\n",
    "\n",
    "# List of 10 currently trending topics in the data world\n",
    "topics = [\"machine learning\", \"data visualization\", \"deep learning\",\n",
    "          \"natural language processing\", \"artificial intelligence\", \"hypothesis testing\",\n",
    "          \"time series analysis\", \"amazon sagemaker\", \"tensorflow\", \"Generative AI\"]\n",
    "\n",
    "# to fetch repositories for a specific topic\n",
    "def fetch_repositories(topic, max_repos=100):\n",
    "    repositories = []  # to store the retrieved repository data\n",
    "    page = 1\n",
    "    while len(repositories) < max_repos:\n",
    "        parameter = {\n",
    "            \"q\": topic,  # Query parameter for searching repositories by topic\n",
    "            \"sort\": \"stars\",  # Sorting by stars to get the most popular repositories\n",
    "            \"order\": \"desc\", # ordering in descending order\n",
    "            \"per_page\": 100,  # Number of repositories per page\n",
    "            \"page\": page  # Pagination control\n",
    "        }\n",
    "        response = requests.get(GITHUB_API_URL, headers=authentication, params=parameter)\n",
    "        # If the API request fails \n",
    "        if response.status_code == 200:\n",
    "            repos = response.json()[\"items\"]\n",
    "            repositories.extend(repos)\n",
    "            if len(repos) <= 100:  # If fewer than 100 repos are returned, exit the loop\n",
    "                break\n",
    "        else:\n",
    "            print(f\"Failed to fetch data for {topic}: {response.status_code}\")\n",
    "            break\n",
    "        page += 1\n",
    "\n",
    "    return repositories\n",
    "\n",
    "# List to store the extracted repository data\n",
    "repositories_data = []\n",
    "\n",
    "# Extract data for each topic\n",
    "for topic in topics:\n",
    "    print(f\"Fetching repositories for topic: {topic}\")\n",
    "    repos = fetch_repositories(topic)\n",
    "    for repo in repos:\n",
    "        repositories_data.append({\n",
    "            \"Repository Name\": repo[\"name\"],\n",
    "            \"Owner\": repo[\"owner\"][\"login\"],\n",
    "            \"Description\": repo[\"description\"],\n",
    "            \"URL\": repo[\"html_url\"],\n",
    "            \"Programming Language\": repo[\"language\"],\n",
    "            \"Creation Date\": repo[\"created_at\"],\n",
    "            \"Last Updated Date\": repo[\"updated_at\"],\n",
    "            \"Number of Stars\": repo[\"stargazers_count\"],\n",
    "            \"Number of Forks\": repo[\"forks_count\"],\n",
    "            \"Number of Open Issues\": repo[\"open_issues_count\"],\n",
    "            \"License Type\": repo[\"license\"][\"name\"] if repo[\"license\"] else \"No License\"\n",
    "        })\n",
    "\n",
    "# Convert the data to a DataFrame\n",
    "df = pd.DataFrame(repositories_data)\n",
    "df.head()"
   ]
  },
  {
   "cell_type": "code",
   "execution_count": 4,
   "metadata": {},
   "outputs": [
    {
     "data": {
      "text/plain": [
       "(1000, 11)"
      ]
     },
     "execution_count": 4,
     "metadata": {},
     "output_type": "execute_result"
    }
   ],
   "source": [
    "df.shape"
   ]
  },
  {
   "cell_type": "code",
   "execution_count": 5,
   "metadata": {},
   "outputs": [
    {
     "data": {
      "text/plain": [
       "Repository Name            0\n",
       "Owner                      0\n",
       "Description               16\n",
       "URL                        0\n",
       "Programming Language     131\n",
       "Creation Date              0\n",
       "Last Updated Date          0\n",
       "Number of Stars            0\n",
       "Number of Forks            0\n",
       "Number of Open Issues      0\n",
       "License Type               0\n",
       "dtype: int64"
      ]
     },
     "execution_count": 5,
     "metadata": {},
     "output_type": "execute_result"
    }
   ],
   "source": [
    "df.isnull().sum()"
   ]
  },
  {
   "cell_type": "code",
   "execution_count": 6,
   "metadata": {},
   "outputs": [
    {
     "data": {
      "text/plain": [
       "323    A curated list of speech and natural language ...\n",
       "2      12 weeks, 26 lessons, 52 quizzes, classic Mach...\n",
       "177    High-performance Toolkit for WebGL-based Data ...\n",
       "Name: Description, dtype: object"
      ]
     },
     "execution_count": 6,
     "metadata": {},
     "output_type": "execute_result"
    }
   ],
   "source": [
    "df[\"Description\"].sample(3)"
   ]
  },
  {
   "cell_type": "markdown",
   "metadata": {},
   "source": [
    "Description Max length"
   ]
  },
  {
   "cell_type": "code",
   "execution_count": 7,
   "metadata": {},
   "outputs": [
    {
     "data": {
      "text/plain": [
       "np.float64(80520.0)"
      ]
     },
     "execution_count": 7,
     "metadata": {},
     "output_type": "execute_result"
    }
   ],
   "source": [
    "max_description_length = df['Description'].str.len().max()\n",
    "max_description_length"
   ]
  },
  {
   "cell_type": "code",
   "execution_count": 54,
   "metadata": {},
   "outputs": [],
   "source": [
    "df['Description'] = df['Description'].str[:255]"
   ]
  },
  {
   "cell_type": "code",
   "execution_count": 55,
   "metadata": {},
   "outputs": [],
   "source": [
    "df.drop_duplicates(inplace=True)"
   ]
  },
  {
   "cell_type": "code",
   "execution_count": 56,
   "metadata": {},
   "outputs": [
    {
     "name": "stdout",
     "output_type": "stream",
     "text": [
      "<class 'pandas.core.frame.DataFrame'>\n",
      "Index: 938 entries, 0 to 999\n",
      "Data columns (total 11 columns):\n",
      " #   Column                 Non-Null Count  Dtype \n",
      "---  ------                 --------------  ----- \n",
      " 0   Repository Name        938 non-null    object\n",
      " 1   Owner                  938 non-null    object\n",
      " 2   Description            922 non-null    object\n",
      " 3   URL                    938 non-null    object\n",
      " 4   Programming Language   817 non-null    object\n",
      " 5   Creation Date          938 non-null    object\n",
      " 6   Last Updated Date      938 non-null    object\n",
      " 7   Number of Stars        938 non-null    int64 \n",
      " 8   Number of Forks        938 non-null    int64 \n",
      " 9   Number of Open Issues  938 non-null    int64 \n",
      " 10  License Type           938 non-null    object\n",
      "dtypes: int64(3), object(8)\n",
      "memory usage: 87.9+ KB\n"
     ]
    }
   ],
   "source": [
    "df.info()"
   ]
  },
  {
   "cell_type": "code",
   "execution_count": 57,
   "metadata": {},
   "outputs": [
    {
     "data": {
      "text/plain": [
       "Programming Language\n",
       "Python              298\n",
       "Jupyter Notebook    207\n",
       "TypeScript           57\n",
       "JavaScript           39\n",
       "C++                  33\n",
       "Java                 28\n",
       "HTML                 24\n",
       "R                    21\n",
       "Go                   18\n",
       "Rust                  9\n",
       "C#                    9\n",
       "TeX                   8\n",
       "Julia                 8\n",
       "PHP                   5\n",
       "Scala                 5\n",
       "Shell                 5\n",
       "C                     4\n",
       "MATLAB                4\n",
       "Ruby                  3\n",
       "Common Lisp           2\n",
       "Objective-C           2\n",
       "CSS                   2\n",
       "Swift                 2\n",
       "Kotlin                2\n",
       "Fortran               2\n",
       "Matlab                2\n",
       "Clojure               2\n",
       "V                     1\n",
       "Scheme                1\n",
       "Vue                   1\n",
       "Elixir                1\n",
       "Emacs Lisp            1\n",
       "Groff                 1\n",
       "Hy                    1\n",
       "HyPhy                 1\n",
       "Dockerfile            1\n",
       "Lean                  1\n",
       "HCL                   1\n",
       "Stata                 1\n",
       "MDX                   1\n",
       "Dart                  1\n",
       "PowerShell            1\n",
       "Raku                  1\n",
       "Name: count, dtype: int64"
      ]
     },
     "execution_count": 57,
     "metadata": {},
     "output_type": "execute_result"
    }
   ],
   "source": [
    "df[\"Programming Language\"].value_counts()"
   ]
  },
  {
   "cell_type": "code",
   "execution_count": 58,
   "metadata": {},
   "outputs": [
    {
     "data": {
      "text/plain": [
       "np.int64(121)"
      ]
     },
     "execution_count": 58,
     "metadata": {},
     "output_type": "execute_result"
    }
   ],
   "source": [
    "# Find NaN values in the 'Programming Language' column\n",
    "total_nan_val = df['Programming Language'].isna().sum()\n",
    "total_nan_val"
   ]
  },
  {
   "cell_type": "code",
   "execution_count": 59,
   "metadata": {},
   "outputs": [],
   "source": [
    "fill_values = ['Python', 'Jupyter Notebook']\n",
    "\n",
    "nan_val = df['Programming Language'].isna()\n",
    "\n",
    "# Randomly select between 'Python' and 'Jupyter Notebook' to fill NaN values\n",
    "df.loc[nan_val, 'Programming Language'] = np.random.choice(fill_values, size=nan_val.sum())"
   ]
  },
  {
   "cell_type": "code",
   "execution_count": 60,
   "metadata": {},
   "outputs": [
    {
     "data": {
      "text/plain": [
       "(938, 11)"
      ]
     },
     "execution_count": 60,
     "metadata": {},
     "output_type": "execute_result"
    }
   ],
   "source": [
    "df.shape"
   ]
  },
  {
   "cell_type": "code",
   "execution_count": 61,
   "metadata": {},
   "outputs": [
    {
     "data": {
      "text/plain": [
       "Repository Name           0\n",
       "Owner                     0\n",
       "Description              16\n",
       "URL                       0\n",
       "Programming Language      0\n",
       "Creation Date             0\n",
       "Last Updated Date         0\n",
       "Number of Stars           0\n",
       "Number of Forks           0\n",
       "Number of Open Issues     0\n",
       "License Type              0\n",
       "dtype: int64"
      ]
     },
     "execution_count": 61,
     "metadata": {},
     "output_type": "execute_result"
    }
   ],
   "source": [
    "df.isna().sum()"
   ]
  },
  {
   "cell_type": "code",
   "execution_count": 62,
   "metadata": {},
   "outputs": [],
   "source": [
    "df.dropna(inplace=True)"
   ]
  },
  {
   "cell_type": "code",
   "execution_count": 63,
   "metadata": {},
   "outputs": [
    {
     "name": "stdout",
     "output_type": "stream",
     "text": [
      "<class 'pandas.core.frame.DataFrame'>\n",
      "Index: 922 entries, 0 to 999\n",
      "Data columns (total 11 columns):\n",
      " #   Column                 Non-Null Count  Dtype \n",
      "---  ------                 --------------  ----- \n",
      " 0   Repository Name        922 non-null    object\n",
      " 1   Owner                  922 non-null    object\n",
      " 2   Description            922 non-null    object\n",
      " 3   URL                    922 non-null    object\n",
      " 4   Programming Language   922 non-null    object\n",
      " 5   Creation Date          922 non-null    object\n",
      " 6   Last Updated Date      922 non-null    object\n",
      " 7   Number of Stars        922 non-null    int64 \n",
      " 8   Number of Forks        922 non-null    int64 \n",
      " 9   Number of Open Issues  922 non-null    int64 \n",
      " 10  License Type           922 non-null    object\n",
      "dtypes: int64(3), object(8)\n",
      "memory usage: 86.4+ KB\n"
     ]
    }
   ],
   "source": [
    "df.info()"
   ]
  },
  {
   "cell_type": "code",
   "execution_count": 64,
   "metadata": {},
   "outputs": [],
   "source": [
    "# Convert datetime columns from ISO format to MySQL compatible format\n",
    "df['Creation Date'] = pd.to_datetime(df['Creation Date']).dt.strftime('%Y-%m-%d %H:%M:%S')\n",
    "df['Last Updated Date'] = pd.to_datetime(df['Last Updated Date']).dt.strftime('%Y-%m-%d %H:%M:%S')"
   ]
  },
  {
   "cell_type": "markdown",
   "metadata": {},
   "source": [
    "# Total Unique Values"
   ]
  },
  {
   "cell_type": "code",
   "execution_count": 65,
   "metadata": {},
   "outputs": [
    {
     "data": {
      "text/html": [
       "<div>\n",
       "<style scoped>\n",
       "    .dataframe tbody tr th:only-of-type {\n",
       "        vertical-align: middle;\n",
       "    }\n",
       "\n",
       "    .dataframe tbody tr th {\n",
       "        vertical-align: top;\n",
       "    }\n",
       "\n",
       "    .dataframe thead th {\n",
       "        text-align: right;\n",
       "    }\n",
       "</style>\n",
       "<table border=\"1\" class=\"dataframe\">\n",
       "  <thead>\n",
       "    <tr style=\"text-align: right;\">\n",
       "      <th></th>\n",
       "      <th>Total Unique Values</th>\n",
       "    </tr>\n",
       "  </thead>\n",
       "  <tbody>\n",
       "    <tr>\n",
       "      <th>Repository Name</th>\n",
       "      <td>909</td>\n",
       "    </tr>\n",
       "    <tr>\n",
       "      <th>Owner</th>\n",
       "      <td>729</td>\n",
       "    </tr>\n",
       "    <tr>\n",
       "      <th>Description</th>\n",
       "      <td>921</td>\n",
       "    </tr>\n",
       "    <tr>\n",
       "      <th>URL</th>\n",
       "      <td>922</td>\n",
       "    </tr>\n",
       "    <tr>\n",
       "      <th>Programming Language</th>\n",
       "      <td>42</td>\n",
       "    </tr>\n",
       "    <tr>\n",
       "      <th>Creation Date</th>\n",
       "      <td>922</td>\n",
       "    </tr>\n",
       "    <tr>\n",
       "      <th>Last Updated Date</th>\n",
       "      <td>917</td>\n",
       "    </tr>\n",
       "    <tr>\n",
       "      <th>Number of Stars</th>\n",
       "      <td>777</td>\n",
       "    </tr>\n",
       "    <tr>\n",
       "      <th>Number of Forks</th>\n",
       "      <td>607</td>\n",
       "    </tr>\n",
       "    <tr>\n",
       "      <th>Number of Open Issues</th>\n",
       "      <td>248</td>\n",
       "    </tr>\n",
       "    <tr>\n",
       "      <th>License Type</th>\n",
       "      <td>22</td>\n",
       "    </tr>\n",
       "  </tbody>\n",
       "</table>\n",
       "</div>"
      ],
      "text/plain": [
       "                       Total Unique Values\n",
       "Repository Name                        909\n",
       "Owner                                  729\n",
       "Description                            921\n",
       "URL                                    922\n",
       "Programming Language                    42\n",
       "Creation Date                          922\n",
       "Last Updated Date                      917\n",
       "Number of Stars                        777\n",
       "Number of Forks                        607\n",
       "Number of Open Issues                  248\n",
       "License Type                            22"
      ]
     },
     "execution_count": 65,
     "metadata": {},
     "output_type": "execute_result"
    }
   ],
   "source": [
    "unique_number = []\n",
    "for i in df.columns:\n",
    "    x = df[i].value_counts().count()\n",
    "    unique_number.append(x)\n",
    "\n",
    "pd.DataFrame(unique_number, index = df.columns, columns = [\"Total Unique Values\"])"
   ]
  },
  {
   "cell_type": "code",
   "execution_count": 66,
   "metadata": {},
   "outputs": [
    {
     "data": {
      "text/plain": [
       "License Type\n",
       "MIT License                                                   254\n",
       "Apache License 2.0                                            214\n",
       "No License                                                    189\n",
       "Other                                                         105\n",
       "MIT No Attribution                                             45\n",
       "GNU General Public License v3.0                                33\n",
       "BSD 3-Clause \"New\" or \"Revised\" License                        25\n",
       "GNU Affero General Public License v3.0                         13\n",
       "Creative Commons Zero v1.0 Universal                            9\n",
       "Mozilla Public License 2.0                                      7\n",
       "BSD 2-Clause \"Simplified\" License                               5\n",
       "Creative Commons Attribution 4.0 International                  4\n",
       "ISC License                                                     4\n",
       "Creative Commons Attribution Share Alike 4.0 International      3\n",
       "GNU Lesser General Public License v3.0                          3\n",
       "Eclipse Public License 1.0                                      2\n",
       "GNU Lesser General Public License v2.1                          2\n",
       "Boost Software License 1.0                                      1\n",
       "Do What The F*ck You Want To Public License                     1\n",
       "GNU General Public License v2.0                                 1\n",
       "European Union Public License 1.2                               1\n",
       "The Unlicense                                                   1\n",
       "Name: count, dtype: int64"
      ]
     },
     "execution_count": 66,
     "metadata": {},
     "output_type": "execute_result"
    }
   ],
   "source": [
    "df[\"License Type\"].value_counts()"
   ]
  },
  {
   "cell_type": "markdown",
   "metadata": {},
   "source": [
    "# Establish MySQL database connection"
   ]
  },
  {
   "cell_type": "code",
   "execution_count": 6,
   "metadata": {},
   "outputs": [],
   "source": [
    "# Load environment variables from .env file\n",
    "load_dotenv()\n",
    "\n",
    "# MySQL connection using environment variables\n",
    "connection = mysql.connector.connect(\n",
    "    host=os.getenv(\"MYSQL_HOST\"),           # AWS RDS endpoint\n",
    "    user=os.getenv(\"MYSQL_USER\"),           # MySQL username\n",
    "    password=os.getenv(\"MYSQL_PASSWORD\"),   # MySQL password\n",
    "    database=os.getenv(\"MYSQL_DATABASE\"),   # MySQL database name\n",
    "    port=int(os.getenv(\"MYSQL_PORT\", 3306)) # MySQL port (default 3306)\n",
    ")\n"
   ]
  },
  {
   "cell_type": "code",
   "execution_count": 71,
   "metadata": {},
   "outputs": [],
   "source": [
    "# Create a cursor object\n",
    "cursor = connection.cursor()\n",
    "\n",
    "# Create the repositories table if it doesn't exist\n",
    "cursor.execute(\n",
    "    \"\"\"create table if not exists repositories(\n",
    "    id INT AUTO_INCREMENT PRIMARY KEY,   -- Auto-incrementing ID\n",
    "    repository_name VARCHAR(255),        -- Name of the repository\n",
    "    owner VARCHAR(100),                  -- Repository owner's username\n",
    "    description TEXT,                    -- Description of the repository\n",
    "    url VARCHAR(255),                    -- URL to the repository\n",
    "    programming_language VARCHAR(50),    -- Primary programming language\n",
    "    creation_date DATETIME,              -- Creation date of the repository\n",
    "    last_updated_date DATETIME,          -- Last updated date\n",
    "    number_of_stars INT,                 -- Number of stars\n",
    "    number_of_forks INT,                 -- Number of forks\n",
    "    number_of_open_issues INT,           -- Number of open issues\n",
    "    license_type VARCHAR(100)            -- License type (if any)\n",
    "    )\"\"\");"
   ]
  },
  {
   "cell_type": "markdown",
   "metadata": {},
   "source": [
    "# SQL query to insert data into the repositories table"
   ]
  },
  {
   "cell_type": "code",
   "execution_count": 72,
   "metadata": {},
   "outputs": [
    {
     "name": "stdout",
     "output_type": "stream",
     "text": [
      "Data was successfully inserted into MySQL database\n"
     ]
    }
   ],
   "source": [
    "insert_query = \"\"\"\n",
    "INSERT INTO repositories (\n",
    "    repository_name, \n",
    "    owner, \n",
    "    description, \n",
    "    url, \n",
    "    programming_language, \n",
    "    creation_date, \n",
    "    last_updated_date, \n",
    "    number_of_stars, \n",
    "    number_of_forks, \n",
    "    number_of_open_issues, \n",
    "    license_type\n",
    ") VALUES (%s, %s, %s, %s, %s, %s, %s, %s, %s, %s, %s);\n",
    "\"\"\"\n",
    "\n",
    "# Insert each row in the DataFrame into MySQL\n",
    "for index, row in df.iterrows():\n",
    "    cursor.execute(insert_query, \n",
    "    (   row['Repository Name'], \n",
    "        row['Owner'], \n",
    "        row['Description'], \n",
    "        row['URL'],\n",
    "        row['Programming Language'], \n",
    "        row['Creation Date'], \n",
    "        row['Last Updated Date'],\n",
    "        row['Number of Stars'], \n",
    "        row['Number of Forks'], \n",
    "        row['Number of Open Issues'],\n",
    "        row['License Type']\n",
    "    ))\n",
    "\n",
    "# Commit to save the changes\n",
    "connection.commit()\n",
    "\n",
    "# Close the cursor and connection\n",
    "cursor.close()\n",
    "connection.close()\n",
    "\n",
    "print(\"Data successfully inserted into MySQL database\")"
   ]
  }
 ],
 "metadata": {
  "kernelspec": {
   "display_name": ".venv",
   "language": "python",
   "name": "python3"
  },
  "language_info": {
   "codemirror_mode": {
    "name": "ipython",
    "version": 3
   },
   "file_extension": ".py",
   "mimetype": "text/x-python",
   "name": "python",
   "nbconvert_exporter": "python",
   "pygments_lexer": "ipython3",
   "version": "3.12.6"
  }
 },
 "nbformat": 4,
 "nbformat_minor": 2
}
